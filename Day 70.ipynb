{
 "cells": [
  {
   "cell_type": "markdown",
   "id": "d68cf47d-b199-4216-a4e0-b12b1badd61b",
   "metadata": {},
   "source": [
    "## Ensemble Methods in Python"
   ]
  },
  {
   "cell_type": "markdown",
   "id": "bf6cefeb-e748-4591-a67f-373010dcd977",
   "metadata": {},
   "source": [
    "This assignment focuses on implementing and understanding ensemble methods in Python. You will work with **Bagging**, **Boosting**, and **Stacking** to solve a classification problem using the synthetic dataset provided in the instructions."
   ]
  },
  {
   "cell_type": "markdown",
   "id": "93dd2196-6244-47d4-9c88-34f056acfa28",
   "metadata": {},
   "source": [
    "### Task 1: Setup the Environment"
   ]
  },
  {
   "cell_type": "code",
   "execution_count": null,
   "id": "5a7e1634-57e2-499e-9841-6055ba18e9fe",
   "metadata": {},
   "outputs": [],
   "source": [
    "# pip install xgboost"
   ]
  },
  {
   "cell_type": "code",
   "execution_count": 23,
   "id": "19f2138a-aacb-4d74-8f6f-52fa96e75acf",
   "metadata": {},
   "outputs": [],
   "source": [
    "import warnings\n",
    "import sys\n",
    "if not sys.warnoptions:\n",
    "    warnings.simplefilter(\"ignore\")"
   ]
  },
  {
   "cell_type": "code",
   "execution_count": 25,
   "id": "343d3f21-be75-4bf0-9347-b3f1cd1fead3",
   "metadata": {},
   "outputs": [],
   "source": [
    "import numpy as np\n",
    "import pandas as pd\n",
    "from sklearn.datasets import make_classification\n",
    "from sklearn.model_selection import train_test_split\n",
    "from sklearn.metrics import accuracy_score\n",
    "from sklearn.ensemble import RandomForestClassifier, StackingClassifier\n",
    "from xgboost import XGBClassifier\n",
    "from sklearn.linear_model import LogisticRegression\n",
    "from sklearn.svm import SVC\n",
    "from sklearn.tree import DecisionTreeClassifier"
   ]
  },
  {
   "cell_type": "markdown",
   "id": "265377c6-0b3b-4376-9028-8a4c8ea69325",
   "metadata": {},
   "source": [
    "### Task 2: Create a Synthetic Dataset"
   ]
  },
  {
   "cell_type": "code",
   "execution_count": 27,
   "id": "ed2c3189-dd6d-4870-9548-10ae2c198e73",
   "metadata": {},
   "outputs": [],
   "source": [
    "# Generate synthetic dataset\n",
    "X, y = make_classification(n_samples=1000, n_features=20, n_informative=15,\n",
    "                           n_redundant=5, random_state=42)\n",
    "\n",
    "# Split the dataset\n",
    "X_train, X_test, y_train, y_test = train_test_split(X, y, test_size=0.3, random_state=42)"
   ]
  },
  {
   "cell_type": "markdown",
   "id": "37ef27f5-a79f-4ab8-be52-d109e95ffb4e",
   "metadata": {},
   "source": [
    "### Task 3: Implement Bagging (Random Forest)"
   ]
  },
  {
   "cell_type": "code",
   "execution_count": 29,
   "id": "5e5b8880-9883-4a01-a00d-e828149ad2ac",
   "metadata": {},
   "outputs": [
    {
     "name": "stdout",
     "output_type": "stream",
     "text": [
      "Bagging (Random Forest) Accuracy: 0.887\n"
     ]
    }
   ],
   "source": [
    "# Train Random Forest Classifier\n",
    "rf = RandomForestClassifier(n_estimators=100, random_state=42)\n",
    "rf.fit(X_train, y_train)\n",
    "\n",
    "# Predictions and evaluation\n",
    "y_pred_rf = rf.predict(X_test)\n",
    "print(\"Bagging (Random Forest) Accuracy:\", round(accuracy_score(y_test, y_pred_rf), 3))"
   ]
  },
  {
   "cell_type": "markdown",
   "id": "1ab1b7f7-2d1e-4663-87d0-432529b3f354",
   "metadata": {},
   "source": [
    "### Task 4: Implement Boosting (XGBoost)"
   ]
  },
  {
   "cell_type": "code",
   "execution_count": 31,
   "id": "a6154c89-d655-4240-adcc-f9bf290fbf09",
   "metadata": {},
   "outputs": [
    {
     "name": "stdout",
     "output_type": "stream",
     "text": [
      "Boosting (XGBoost) Accuracy: 0.907\n"
     ]
    }
   ],
   "source": [
    "# Train XGBoost Classifier\n",
    "xgb = XGBClassifier(n_estimators=100, learning_rate=0.1, random_state=42)\n",
    "xgb.fit(X_train, y_train)\n",
    "\n",
    "# Predictions and evaluation\n",
    "y_pred_xgb = xgb.predict(X_test)\n",
    "print(\"Boosting (XGBoost) Accuracy:\", round(accuracy_score(y_test, y_pred_xgb), 3))"
   ]
  },
  {
   "cell_type": "markdown",
   "id": "5341b8de-1258-406c-b3ae-f7a3a3484635",
   "metadata": {},
   "source": [
    "### Task 5: Implement Stacking"
   ]
  },
  {
   "cell_type": "code",
   "execution_count": 33,
   "id": "6bcc6f6c-41e6-4f00-aea6-923772c63d3e",
   "metadata": {},
   "outputs": [
    {
     "name": "stdout",
     "output_type": "stream",
     "text": [
      "Stacking Accuracy: 0.937\n"
     ]
    }
   ],
   "source": [
    "# Define base models\n",
    "base_models = [\n",
    "    ('svm', SVC(probability=True)),\n",
    "    ('tree', DecisionTreeClassifier())\n",
    "]\n",
    "\n",
    "# Define the meta-model\n",
    "meta_model = LogisticRegression()\n",
    "\n",
    "# Create Stacking Classifier\n",
    "stack = StackingClassifier(estimators=base_models, final_estimator=meta_model, cv=5)\n",
    "stack.fit(X_train, y_train)\n",
    "\n",
    "# Predictions and evaluation\n",
    "y_pred_stack = stack.predict(X_test)\n",
    "print(\"Stacking Accuracy:\", round(accuracy_score(y_test, y_pred_stack), 3))"
   ]
  }
 ],
 "metadata": {
  "kernelspec": {
   "display_name": "Python 3 (ipykernel)",
   "language": "python",
   "name": "python3"
  },
  "language_info": {
   "codemirror_mode": {
    "name": "ipython",
    "version": 3
   },
   "file_extension": ".py",
   "mimetype": "text/x-python",
   "name": "python",
   "nbconvert_exporter": "python",
   "pygments_lexer": "ipython3",
   "version": "3.12.4"
  }
 },
 "nbformat": 4,
 "nbformat_minor": 5
}
